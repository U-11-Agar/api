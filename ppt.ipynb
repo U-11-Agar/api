{
 "cells": [
  {
   "cell_type": "code",
   "execution_count": null,
   "metadata": {},
   "outputs": [],
   "source": [
    "!pip install python-pptx"
   ]
  },
  {
   "cell_type": "code",
   "execution_count": 3,
   "metadata": {},
   "outputs": [],
   "source": [
    "from pptx import Presentation\n",
    "from pptx.util import Inches, Pt\n",
    "\n",
    "\n",
    "with open('/Users/utsavagarwal/Downloads/Screening_Task/sample_slide1_input.txt', 'r') as file1:\n",
    "    text1 = file1.read()\n",
    "with open('/Users/utsavagarwal/Downloads/Screening_Task/sample_slide2_input.txt', 'r') as file2:\n",
    "    text2 = file2.read()\n",
    "font_file = '/Users/utsavagarwal/Downloads/Screening_Task/sample_font_file.ttf' \n",
    "font_name = 'CustomFont'  \n",
    "\n",
    "presentation = Presentation()\n",
    "\n",
    "\n",
    "slide_layout = presentation.slide_layouts[6]  \n",
    "\n",
    "slide1 = presentation.slides.add_slide(slide_layout)\n",
    "left = top = Inches(0)\n",
    "width = Inches(10)\n",
    "height = Inches(5)\n",
    "txBox = slide1.shapes.add_textbox(left, top, width, height)\n",
    "tf1 = txBox.text_frame\n",
    "p = tf1.add_paragraph()\n",
    "p.text = text1\n",
    "p.font.size = Pt(9)\n",
    "p.font.name = font_name\n",
    "p.space_after = Pt(0)  \n",
    "\n",
    "tf1.word_wrap = True\n",
    "tf1.auto_size = True\n",
    "\n",
    "slide2 = presentation.slides.add_slide(slide_layout)\n",
    "txBox2 = slide2.shapes.add_textbox(left, top, width, height)\n",
    "tf2 = txBox2.text_frame\n",
    "p = tf2.add_paragraph()\n",
    "p.text = text2\n",
    "p.font.size = Pt(9)\n",
    "p.font.name = font_name\n",
    "p.space_after = Pt(0)  \n",
    "\n",
    "\n",
    "tf2.word_wrap = True\n",
    "tf2.auto_size = True\n",
    "\n",
    "\n",
    "presentation.save(\"a1.pptx\")\n"
   ]
  },
  {
   "cell_type": "code",
   "execution_count": 2,
   "metadata": {},
   "outputs": [
    {
     "name": "stdout",
     "output_type": "stream",
     "text": [
      "Collecting python-pptx\n",
      "  Using cached python-pptx-0.6.21.tar.gz (10.1 MB)\n",
      "  Preparing metadata (setup.py) ... \u001b[?25ldone\n",
      "\u001b[?25hCollecting lxml>=3.1.0\n",
      "  Downloading lxml-4.9.2-cp310-cp310-macosx_10_15_x86_64.whl (4.7 MB)\n",
      "\u001b[2K     \u001b[90m━━━━━━━━━━━━━━━━━━━━━━━━━━━━━━━━━━━━━━━━\u001b[0m \u001b[32m4.7/4.7 MB\u001b[0m \u001b[31m1.4 MB/s\u001b[0m eta \u001b[36m0:00:00\u001b[0m00:01\u001b[0m00:01\u001b[0m\n",
      "\u001b[?25hCollecting Pillow>=3.3.2\n",
      "  Downloading Pillow-9.5.0-cp310-cp310-macosx_10_10_x86_64.whl (3.4 MB)\n",
      "\u001b[2K     \u001b[90m━━━━━━━━━━━━━━━━━━━━━━━━━━━━━━━━━━━━━━━━\u001b[0m \u001b[32m3.4/3.4 MB\u001b[0m \u001b[31m1.8 MB/s\u001b[0m eta \u001b[36m0:00:00\u001b[0m00:01\u001b[0m00:01\u001b[0m\n",
      "\u001b[?25hCollecting XlsxWriter>=0.5.7\n",
      "  Downloading XlsxWriter-3.1.1-py3-none-any.whl (152 kB)\n",
      "\u001b[2K     \u001b[90m━━━━━━━━━━━━━━━━━━━━━━━━━━━━━━━━━━━━━━━\u001b[0m \u001b[32m152.9/152.9 kB\u001b[0m \u001b[31m2.4 MB/s\u001b[0m eta \u001b[36m0:00:00\u001b[0ma \u001b[36m0:00:01\u001b[0m\n",
      "\u001b[?25hBuilding wheels for collected packages: python-pptx\n",
      "  Building wheel for python-pptx (setup.py) ... \u001b[?25ldone\n",
      "\u001b[?25h  Created wheel for python-pptx: filename=python_pptx-0.6.21-py3-none-any.whl size=470935 sha256=ab9ad3385cf1d5813d9f56f8ec2808fad691e6119ed1d9ecc53e8415866defae\n",
      "  Stored in directory: /Users/utsavagarwal/Library/Caches/pip/wheels/66/b6/4c/3c4883b34a7d27cef0a9ee22e542290b91b24660a5dc1a9add\n",
      "Successfully built python-pptx\n",
      "Installing collected packages: XlsxWriter, Pillow, lxml, python-pptx\n",
      "Successfully installed Pillow-9.5.0 XlsxWriter-3.1.1 lxml-4.9.2 python-pptx-0.6.21\n"
     ]
    }
   ],
   "source": []
  },
  {
   "cell_type": "code",
   "execution_count": 14,
   "metadata": {},
   "outputs": [],
   "source": [
    "from bs4 import BeautifulSoup\n",
    "\n",
    "# Define the path to the custom font file\n",
    "font_file = '/Users/utsavagarwal/Downloads/deutsche_normalschrift/Deutscheç Normalschriftç a.ttf'\n",
    "\n",
    "# Define the name for the custom font\n",
    "font_name = 'CustomFont'\n",
    "\n",
    "# Read the HTML file\n",
    "with open('/Users/utsavagarwal/Downloads/Screening_Task/sample_task2.html', 'r') as file:\n",
    "    html_content = file.read()\n",
    "\n",
    "# Create a BeautifulSoup object\n",
    "soup = BeautifulSoup(html_content, 'html.parser')\n",
    "\n",
    "# Find the elements you want to change the font for (e.g., <p> tags)\n",
    "paragraphs = soup.find_all('p')\n",
    "\n",
    "# Modify the font family for the elements\n",
    "for p in paragraphs:\n",
    "    p['style'] = f'font-family: {font_name};'\n",
    "\n",
    "# Add the custom font import rule to the head of the HTML document\n",
    "style_tag = soup.new_tag('style')\n",
    "style_tag.string = f'@font-face {{ font-family: \"{font_name}\"; src: url(\"{font_file}\"); }}'\n",
    "soup.head.append(style_tag)\n",
    "\n",
    "# Write the updated HTML content back to the file\n",
    "with open('/Users/utsavagarwal/Downloads/Screening_Task/sample_task2_sol2.html', 'w') as file:\n",
    "    file.write(str(soup))\n"
   ]
  },
  {
   "cell_type": "code",
   "execution_count": 5,
   "metadata": {},
   "outputs": [
    {
     "name": "stdout",
     "output_type": "stream",
     "text": [
      "Collecting bs4\n",
      "  Downloading bs4-0.0.1.tar.gz (1.1 kB)\n",
      "  Preparing metadata (setup.py) ... \u001b[?25ldone\n",
      "\u001b[?25hCollecting beautifulsoup4\n",
      "  Downloading beautifulsoup4-4.12.2-py3-none-any.whl (142 kB)\n",
      "\u001b[2K     \u001b[90m━━━━━━━━━━━━━━━━━━━━━━━━━━━━━━━━━━━━━━━\u001b[0m \u001b[32m143.0/143.0 kB\u001b[0m \u001b[31m1.3 MB/s\u001b[0m eta \u001b[36m0:00:00\u001b[0ma \u001b[36m0:00:01\u001b[0m\n",
      "\u001b[?25hCollecting soupsieve>1.2\n",
      "  Downloading soupsieve-2.4.1-py3-none-any.whl (36 kB)\n",
      "Building wheels for collected packages: bs4\n",
      "  Building wheel for bs4 (setup.py) ... \u001b[?25ldone\n",
      "\u001b[?25h  Created wheel for bs4: filename=bs4-0.0.1-py3-none-any.whl size=1257 sha256=b3904cfc5d387a0b148aff44a2f7dfc5772067cf18f80b8e2659630a63c398e8\n",
      "  Stored in directory: /Users/utsavagarwal/Library/Caches/pip/wheels/e4/62/1d/d4d1bc4f33350ff84227f89b258edb552d604138e3739f5c83\n",
      "Successfully built bs4\n",
      "Installing collected packages: soupsieve, beautifulsoup4, bs4\n",
      "Successfully installed beautifulsoup4-4.12.2 bs4-0.0.1 soupsieve-2.4.1\n"
     ]
    }
   ],
   "source": [
    "!pip install bs4"
   ]
  },
  {
   "cell_type": "code",
   "execution_count": null,
   "metadata": {},
   "outputs": [],
   "source": []
  }
 ],
 "metadata": {
  "kernelspec": {
   "display_name": "Python 3",
   "language": "python",
   "name": "python3"
  },
  "language_info": {
   "codemirror_mode": {
    "name": "ipython",
    "version": 3
   },
   "file_extension": ".py",
   "mimetype": "text/x-python",
   "name": "python",
   "nbconvert_exporter": "python",
   "pygments_lexer": "ipython3",
   "version": "3.10.8"
  },
  "orig_nbformat": 4
 },
 "nbformat": 4,
 "nbformat_minor": 2
}
